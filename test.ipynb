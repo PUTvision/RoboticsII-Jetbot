{
 "cells": [
  {
   "cell_type": "code",
   "execution_count": null,
   "metadata": {},
   "outputs": [],
   "source": [
    "%matplotlib inline\n",
    "import matplotlib.pyplot as plt\n",
    "import numpy as np\n",
    "import cv2\n",
    "\n",
    "import onnx\n",
    "import onnxruntime as rt\n",
    "\n",
    "from src.training.data import JetbotDataset\n",
    "from src.training.transforms import HalfCrop"
   ]
  },
  {
   "cell_type": "code",
   "execution_count": null,
   "metadata": {},
   "outputs": [],
   "source": [
    "onnx_model = onnx.load(\"model.onnx\")\n",
    "onnx.checker.check_model(onnx_model)\n",
    "sess = rt.InferenceSession(\"model.onnx\", providers=rt.get_available_providers())\n",
    "\n",
    "input_name = sess.get_inputs()[0].name\n",
    "print(\"input name\", input_name)\n",
    "input_shape = sess.get_inputs()[0].shape\n",
    "print(\"input shape\", input_shape)\n",
    "input_type = sess.get_inputs()[0].type\n",
    "print(\"input type\", input_type)\n",
    "label_name = sess.get_outputs()[0].name"
   ]
  },
  {
   "cell_type": "code",
   "execution_count": null,
   "metadata": {},
   "outputs": [],
   "source": [
    "data = JetbotDataset(\"./data/dataset/\")\n",
    "labs = np.array(data.labels)"
   ]
  },
  {
   "cell_type": "code",
   "execution_count": null,
   "metadata": {},
   "outputs": [],
   "source": [
    "left = sum(labs[:,1] > 0)\n",
    "right = sum(labs[:,1] < 0)\n",
    "forward = sum(labs[:,1] == 0)"
   ]
  },
  {
   "cell_type": "code",
   "execution_count": null,
   "metadata": {},
   "outputs": [],
   "source": [
    "(left+right)/len(labs)"
   ]
  },
  {
   "cell_type": "code",
   "execution_count": null,
   "metadata": {},
   "outputs": [],
   "source": [
    "def mae(y,y_pred):\n",
    "\treturn np.mean(np.abs(y_pred-y))"
   ]
  },
  {
   "cell_type": "code",
   "execution_count": null,
   "metadata": {},
   "outputs": [],
   "source": [
    "random  = np.random.uniform(-1,1,size=(len(labs),2))\n",
    "random[:,0] = 1"
   ]
  },
  {
   "cell_type": "code",
   "execution_count": null,
   "metadata": {},
   "outputs": [],
   "source": [
    "random"
   ]
  },
  {
   "cell_type": "code",
   "execution_count": null,
   "metadata": {},
   "outputs": [],
   "source": [
    "mae(labs,random)"
   ]
  },
  {
   "cell_type": "code",
   "execution_count": null,
   "metadata": {},
   "outputs": [],
   "source": [
    "def display_img(img,label):\n",
    "\timg = np.transpose(img,axes=(1,2,0))\n",
    "\tplt.imshow(img)\n",
    "\tforward, left = label\n",
    "\tplt.title(f\"Forward {forward} Left {left}\")\n",
    "\tplt.show()\n",
    "\n",
    "def half_image(img):\n",
    "\treturn HalfCrop(224)(img,None)[0].numpy()\n",
    "\n",
    "def display_img_with_pred(img,label,pred):\n",
    "\timg = half_image(img)\n",
    "\timg = np.transpose(img,axes=(1,2,0))\n",
    "\tplt.imshow(img)\n",
    "\tforward, left = label\n",
    "\tpf,pl = pred\n",
    "\tplt.title(f\"Forward {forward} Left {left}\\n Predictions\\nForward {pf} Left {pl}\")\n",
    "\tplt.show()\n",
    "\t# cv2.imshow(\"in\", cv2.cvtColor(np.transpose(img.numpy(),(1,2,0)),cv2.COLOR_BGR2RGB))\n",
    "\t# cv2.waitKey(0)"
   ]
  },
  {
   "cell_type": "code",
   "execution_count": null,
   "metadata": {},
   "outputs": [],
   "source": [
    "def preprocess(img):\n",
    "\tpreproc = half_image(img).astype(np.float32)/255\n",
    "\timg = np.transpose(img,axes=(1,2,0))\n",
    "\timg = cv2.cvtColor(img.numpy(),cv2.COLOR_BGR2RGB)\n",
    "\timg = np.transpose(img,axes=(2,0,1))\n",
    "\tpreproc = preproc[None,:,:,:]\n",
    "\tpreproc = np.transpose(preproc,axes=(0,1,3,2))\n",
    "\treturn preproc"
   ]
  },
  {
   "cell_type": "code",
   "execution_count": null,
   "metadata": {},
   "outputs": [],
   "source": [
    "img, label, _ = data[5720]\n",
    "\n",
    "display_img(img,label)"
   ]
  },
  {
   "cell_type": "code",
   "execution_count": null,
   "metadata": {},
   "outputs": [],
   "source": [
    "preproc = preprocess(img)\n",
    "out = sess.run([label_name],{input_name:preproc})\n",
    "\n",
    "display_img_with_pred(img,label,out[0][0])"
   ]
  }
 ],
 "metadata": {
  "kernelspec": {
   "display_name": "Python 3.9.6 ('venv': venv)",
   "language": "python",
   "name": "python3"
  },
  "language_info": {
   "codemirror_mode": {
    "name": "ipython",
    "version": 3
   },
   "file_extension": ".py",
   "mimetype": "text/x-python",
   "name": "python",
   "nbconvert_exporter": "python",
   "pygments_lexer": "ipython3",
   "version": "3.9.6"
  },
  "orig_nbformat": 4,
  "vscode": {
   "interpreter": {
    "hash": "886031f2c57c0c5ecc4e9aa4c5a1523e655a083b3fccba86408628478d766943"
   }
  }
 },
 "nbformat": 4,
 "nbformat_minor": 2
}
