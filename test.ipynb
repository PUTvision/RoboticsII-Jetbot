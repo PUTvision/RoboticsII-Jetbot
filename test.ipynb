{
 "cells": [
  {
   "cell_type": "code",
   "execution_count": null,
   "metadata": {},
   "outputs": [],
   "source": [
    "%matplotlib inline\n",
    "import matplotlib.pyplot as plt\n",
    "import matplotlib.animation as animation\n",
    "import matplotlib.patches as mpatches\n",
    "import numpy as np\n",
    "import cv2\n",
    "from PIL import Image\n",
    "\n",
    "import onnx\n",
    "import onnxruntime as rt\n",
    "\n",
    "from src.training.data import JetbotDataset\n",
    "from src.training.transforms import HalfCrop"
   ]
  },
  {
   "cell_type": "code",
   "execution_count": null,
   "metadata": {},
   "outputs": [],
   "source": [
    "onnx_model = onnx.load(\"sharp_loss_model.onnx\")\n",
    "onnx.checker.check_model(onnx_model)\n",
    "sess = rt.InferenceSession(\"sharp_loss_model.onnx\", providers=rt.get_available_providers())\n",
    "\n",
    "input_name = sess.get_inputs()[0].name\n",
    "print(\"input name\", input_name)\n",
    "input_shape = sess.get_inputs()[0].shape\n",
    "print(\"input shape\", input_shape)\n",
    "input_type = sess.get_inputs()[0].type\n",
    "print(\"input type\", input_type)\n",
    "label_name = sess.get_outputs()[0].name"
   ]
  },
  {
   "cell_type": "code",
   "execution_count": null,
   "metadata": {},
   "outputs": [],
   "source": [
    "data = JetbotDataset(\"./data/dataset/\")\n",
    "labs = np.array(data.labels)"
   ]
  },
  {
   "cell_type": "code",
   "execution_count": null,
   "metadata": {},
   "outputs": [],
   "source": [
    "left = sum(labs[:,1] > 0)\n",
    "right = sum(labs[:,1] < 0)\n",
    "forward = sum(labs[:,1] == 0)"
   ]
  },
  {
   "cell_type": "code",
   "execution_count": null,
   "metadata": {},
   "outputs": [],
   "source": [
    "(left+right)/len(labs)"
   ]
  },
  {
   "cell_type": "code",
   "execution_count": null,
   "metadata": {},
   "outputs": [],
   "source": [
    "def mae(y,y_pred):\n",
    "\treturn np.mean(np.abs(y_pred-y))"
   ]
  },
  {
   "cell_type": "code",
   "execution_count": null,
   "metadata": {},
   "outputs": [],
   "source": [
    "random  = np.random.uniform(-1,1,size=(len(labs),2))\n",
    "random[:,0] = 1"
   ]
  },
  {
   "cell_type": "code",
   "execution_count": null,
   "metadata": {},
   "outputs": [],
   "source": [
    "random"
   ]
  },
  {
   "cell_type": "code",
   "execution_count": null,
   "metadata": {},
   "outputs": [],
   "source": [
    "mae(labs,random)"
   ]
  },
  {
   "cell_type": "code",
   "execution_count": null,
   "metadata": {},
   "outputs": [],
   "source": [
    "def display_img(img,label):\n",
    "\timg = np.transpose(img,axes=(1,2,0))\n",
    "\tplt.imshow(img)\n",
    "\tforward, left = label\n",
    "\tplt.title(f\"Forward {forward} Left {left}\")\n",
    "\tplt.show()\n",
    "\n",
    "def half_image(img):\n",
    "\treturn HalfCrop(224)(img,None)[0].numpy()\n",
    "\n",
    "def display_img_with_pred(img,label,pred):\n",
    "\timg = half_image(img)\n",
    "\timg = np.transpose(img,axes=(1,2,0))\n",
    "\tplt.imshow(img)\n",
    "\tforward, left = label\n",
    "\tpf,pl = pred\n",
    "\tplt.title(f\"Forward {forward} Left {left}\\n Predictions\\nForward {pf} Left {pl}\")\n",
    "\tplt.show()\n",
    "\t# cv2.imshow(\"in\", cv2.cvtColor(np.transpose(img.numpy(),(1,2,0)),cv2.COLOR_BGR2RGB))\n",
    "\t# cv2.waitKey(0)"
   ]
  },
  {
   "cell_type": "code",
   "execution_count": null,
   "metadata": {},
   "outputs": [],
   "source": [
    "def preprocess(img):\n",
    "\tpreproc = half_image(img)\n",
    "\timg = np.transpose(img,axes=(1,2,0))\n",
    "\timg = cv2.cvtColor(img.numpy(),cv2.COLOR_BGR2RGB)\n",
    "\timg = np.transpose(img,axes=(2,0,1))\n",
    "\tpreproc = preproc[None,:,:,:]\n",
    "\tpreproc = np.transpose(preproc,axes=(0,1,3,2))\n",
    "\treturn preproc.astype(np.float32)/255"
   ]
  },
  {
   "cell_type": "code",
   "execution_count": null,
   "metadata": {},
   "outputs": [],
   "source": [
    "img, label, _ = data[5795]\n",
    "\n",
    "display_img(img,label)"
   ]
  },
  {
   "cell_type": "code",
   "execution_count": null,
   "metadata": {},
   "outputs": [],
   "source": [
    "preproc = preprocess(img)\n",
    "out = sess.run([label_name],{input_name:preproc})\n",
    "\n",
    "display_img_with_pred(img,label,out[0][0])"
   ]
  },
  {
   "cell_type": "code",
   "execution_count": null,
   "metadata": {},
   "outputs": [],
   "source": [
    "def create_data(start=5000,frames=300):\n",
    "    labels = []\n",
    "    preds = []\n",
    "    images = []\n",
    "\n",
    "    for i in range(start,start+frames):\n",
    "        img,label,_ = data[i]\n",
    "        labels.append(label.numpy())\n",
    "        images.append(np.transpose(img.numpy(),axes=(1,2,0)))#cv2.cvtColor(np.transpose(img.numpy(),axes=(1,2,0)),cv2.COLOR_BGR2RGB))\n",
    "        preproc = preprocess(img)\n",
    "\n",
    "        pred = sess.run([label_name],{input_name:preproc})\n",
    "\n",
    "        preds.append(pred[0][0])\n",
    "    return labels,preds,images"
   ]
  },
  {
   "cell_type": "code",
   "execution_count": null,
   "metadata": {},
   "outputs": [],
   "source": [
    "def create_gif(images,labels,preds,name=\"animation.gif\",start=5000):\n",
    "    frames = len(images)\n",
    "    fig, ax = plt.subplots()\n",
    "    ax.set_title(f\"Images {start}-{start+frames}\")\n",
    "    ax.set_xticklabels([])\n",
    "    ax.set_yticklabels([])\n",
    "    img_display = ax.imshow(images[0])\n",
    "\n",
    "\n",
    "    ax.legend(handles=[\n",
    "        mpatches.Patch(color='red', label='Ground truth'),\n",
    "        mpatches.Patch(color='blue', label='Prediction'),\n",
    "        mpatches.Patch(color='lime', label='Model sees below this line')\n",
    "        ])\n",
    "\n",
    "    ax.plot([0,223],[112,112],color=\"lime\")\n",
    "    arrows = []\n",
    "    numbers = []\n",
    "    def update(frame):\n",
    "        img_display.set_array(images[frame])\n",
    "        for arrow in arrows:\n",
    "            arrow.remove()\n",
    "        arrows.clear()\n",
    "        for number in numbers:\n",
    "            number.remove()\n",
    "        numbers.clear()\n",
    "\n",
    "        forward,left = labels[frame]\n",
    "        pfor,pleft = preds[frame]\n",
    "\n",
    "        specs = [\n",
    "            [0,forward,\"red\",0.2],\n",
    "            [left,0,\"red\",0.2],\n",
    "            [0,pfor,\"blue\",0.8],\n",
    "            [pleft,0,\"blue\",0.8]]\n",
    "\n",
    "        length = 0.1\n",
    "        for left,forward,col,x in specs:\n",
    "            arrows.append(ax.arrow(x,0.2, -length*left,length*forward, head_width=0.025, head_length=0.05, fc=col, ec=col, transform=ax.transAxes))\n",
    "            numbers.append(ax.text(x-(length+0.05)*left, 0.2+(length+0.05)*forward, f\"{forward+left:.4f}\", color='black', ha='center', va='center', transform=ax.transAxes))\n",
    "        return [img_display] + arrows + numbers\n",
    "\n",
    "    ani = animation.FuncAnimation(fig, update, frames=len(images), blit=True)\n",
    "    ani.save(name, writer='pillow', fps=12)"
   ]
  },
  {
   "cell_type": "code",
   "execution_count": null,
   "metadata": {},
   "outputs": [],
   "source": [
    "def animate(start=5000,frames=300,name=\"anim.gif\"):\n",
    "    labs,preds,imgs = create_data(start,frames)\n",
    "    create_gif(imgs,labs,preds,name,start)"
   ]
  },
  {
   "cell_type": "code",
   "execution_count": null,
   "metadata": {},
   "outputs": [],
   "source": [
    "animate()"
   ]
  },
  {
   "cell_type": "code",
   "execution_count": null,
   "metadata": {},
   "outputs": [],
   "source": [
    "scenes = [\n",
    "    [5780,200],\n",
    "    [2137,200],\n",
    "    [6150,300],\n",
    "]\n",
    "\n",
    "for s,f in scenes:\n",
    "    animate(s,f,f\"scene_{s}_{f}.gif\")\n",
    "    print(\"Created gif\",s,f)"
   ]
  }
 ],
 "metadata": {
  "kernelspec": {
   "display_name": "Python 3.9.6 ('venv': venv)",
   "language": "python",
   "name": "python3"
  },
  "language_info": {
   "codemirror_mode": {
    "name": "ipython",
    "version": 3
   },
   "file_extension": ".py",
   "mimetype": "text/x-python",
   "name": "python",
   "nbconvert_exporter": "python",
   "pygments_lexer": "ipython3",
   "version": "3.9.6"
  },
  "orig_nbformat": 4,
  "vscode": {
   "interpreter": {
    "hash": "886031f2c57c0c5ecc4e9aa4c5a1523e655a083b3fccba86408628478d766943"
   }
  }
 },
 "nbformat": 4,
 "nbformat_minor": 2
}
